{
 "cells": [
  {
   "cell_type": "markdown",
   "metadata": {},
   "source": [
    "## 使用分类数据\n",
    "\n",
    "一般来说，取代一个具有N个可能等级的类属性特征，需要创建N个（1/0）数值的特征。这种操作称为虚拟编码（dummy coding）\n",
    "\n",
    "### pandas实现较为轻松"
   ]
  },
  {
   "cell_type": "code",
   "execution_count": 1,
   "metadata": {},
   "outputs": [
    {
     "data": {
      "text/html": [
       "<div>\n",
       "<style>\n",
       "    .dataframe thead tr:only-child th {\n",
       "        text-align: right;\n",
       "    }\n",
       "\n",
       "    .dataframe thead th {\n",
       "        text-align: left;\n",
       "    }\n",
       "\n",
       "    .dataframe tbody tr th {\n",
       "        vertical-align: top;\n",
       "    }\n",
       "</style>\n",
       "<table border=\"1\" class=\"dataframe\">\n",
       "  <thead>\n",
       "    <tr style=\"text-align: right;\">\n",
       "      <th></th>\n",
       "      <th>cloudy</th>\n",
       "      <th>foggy</th>\n",
       "      <th>rainy</th>\n",
       "      <th>snowy</th>\n",
       "      <th>sunny</th>\n",
       "    </tr>\n",
       "  </thead>\n",
       "  <tbody>\n",
       "    <tr>\n",
       "      <th>0</th>\n",
       "      <td>0</td>\n",
       "      <td>0</td>\n",
       "      <td>0</td>\n",
       "      <td>0</td>\n",
       "      <td>1</td>\n",
       "    </tr>\n",
       "    <tr>\n",
       "      <th>1</th>\n",
       "      <td>1</td>\n",
       "      <td>0</td>\n",
       "      <td>0</td>\n",
       "      <td>0</td>\n",
       "      <td>0</td>\n",
       "    </tr>\n",
       "    <tr>\n",
       "      <th>2</th>\n",
       "      <td>0</td>\n",
       "      <td>0</td>\n",
       "      <td>0</td>\n",
       "      <td>1</td>\n",
       "      <td>0</td>\n",
       "    </tr>\n",
       "    <tr>\n",
       "      <th>3</th>\n",
       "      <td>0</td>\n",
       "      <td>0</td>\n",
       "      <td>1</td>\n",
       "      <td>0</td>\n",
       "      <td>0</td>\n",
       "    </tr>\n",
       "    <tr>\n",
       "      <th>4</th>\n",
       "      <td>0</td>\n",
       "      <td>1</td>\n",
       "      <td>0</td>\n",
       "      <td>0</td>\n",
       "      <td>0</td>\n",
       "    </tr>\n",
       "  </tbody>\n",
       "</table>\n",
       "</div>"
      ],
      "text/plain": [
       "   cloudy  foggy  rainy  snowy  sunny\n",
       "0       0      0      0      0      1\n",
       "1       1      0      0      0      0\n",
       "2       0      0      0      1      0\n",
       "3       0      0      1      0      0\n",
       "4       0      1      0      0      0"
      ]
     },
     "execution_count": 1,
     "metadata": {},
     "output_type": "execute_result"
    }
   ],
   "source": [
    "import pandas as pd\n",
    "categorical_feature = pd.Series(['sunny', 'cloudy', 'snowy', 'rainy', 'foggy'])\n",
    "categorical_feature\n",
    "mapping = pd.get_dummies(categorical_feature)\n",
    "mapping"
   ]
  },
  {
   "cell_type": "code",
   "execution_count": 2,
   "metadata": {},
   "outputs": [
    {
     "data": {
      "text/plain": [
       "0    1\n",
       "1    0\n",
       "2    0\n",
       "3    0\n",
       "4    0\n",
       "Name: sunny, dtype: uint8"
      ]
     },
     "execution_count": 2,
     "metadata": {},
     "output_type": "execute_result"
    }
   ],
   "source": [
    "mapping['sunny']"
   ]
  },
  {
   "cell_type": "markdown",
   "metadata": {},
   "source": [
    "### sklearn 也可以处理，但较为复杂"
   ]
  },
  {
   "cell_type": "code",
   "execution_count": 3,
   "metadata": {},
   "outputs": [
    {
     "name": "stdout",
     "output_type": "stream",
     "text": [
      "[[ 0.  0.  0.  0.  1.]]\n"
     ]
    }
   ],
   "source": [
    "from sklearn.preprocessing import OneHotEncoder\n",
    "from sklearn.preprocessing import LabelEncoder\n",
    "\n",
    "le = LabelEncoder()\n",
    "ohe = OneHotEncoder()\n",
    "\n",
    "levels = ['sunny', 'cloudy', 'snowy', 'rainy', 'foggy']\n",
    "fit_levs = le.fit_transform(levels)\n",
    "ohe.fit([[fit_levs[0]], [fit_levs[1]], [fit_levs[2]], [fit_levs[3]], [fit_levs[4]]])\n",
    "print ohe.transform([le.transform(['sunny'])]).toarray()"
   ]
  },
  {
   "cell_type": "markdown",
   "metadata": {},
   "source": [
    "## 使用文本数据\n",
    "\n",
    "处理文本最常用的方法是使用词袋（bag of words）\n",
    "\n",
    "范例中处理的文本数据集为20newsgroup(http://qwone.com/~jason/20Newsgroups/)，范例中只使用子集，包括医学和空间方面的科学主题\n",
    "\n",
    "下载的文件位于类似：C:\\Users\\01009558\\scikit_learn_data的位置"
   ]
  },
  {
   "cell_type": "code",
   "execution_count": 4,
   "metadata": {},
   "outputs": [],
   "source": [
    "from sklearn.datasets import fetch_20newsgroups\n",
    "categories= ['sci.med', 'sci.space']\n",
    "twenty_sci_news = fetch_20newsgroups(categories=categories)"
   ]
  },
  {
   "cell_type": "code",
   "execution_count": 5,
   "metadata": {},
   "outputs": [
    {
     "name": "stdout",
     "output_type": "stream",
     "text": [
      "From: flb@flb.optiplan.fi (\"F.Baube[tm]\")\n",
      "Subject: Vandalizing the sky\n",
      "X-Added: Forwarded by Space Digest\n",
      "Organization: [via International Space University]\n",
      "Original-Sender: isu@VACATION.VENARI.CS.CMU.EDU\n",
      "Distribution: sci\n",
      "Lines: 12\n",
      "\n",
      "From: \"Phil G. Fraering\" <pgf@srl03.cacs.usl.edu>\n",
      "> \n",
      "> Finally: this isn't the Bronze Age, [..]\n",
      "> please try to remember that there are more human activities than\n",
      "> those practiced by the Warrior Caste, the Farming Caste, and the\n",
      "> Priesthood.\n",
      "\n",
      "Right, the Profiting Caste is blessed by God, and may \n",
      " freely blare its presence in the evening twilight ..\n",
      "\n",
      "-- \n",
      "* Fred Baube (tm)\n",
      "\n"
     ]
    }
   ],
   "source": [
    "print twenty_sci_news.data[0]"
   ]
  },
  {
   "cell_type": "code",
   "execution_count": 6,
   "metadata": {},
   "outputs": [
    {
     "data": {
      "text/plain": [
       "array([ 'C:\\\\Users\\\\01009558\\\\scikit_learn_data\\\\20news_home\\\\20news-bydate-train\\\\sci.space\\\\61116',\n",
       "       'C:\\\\Users\\\\01009558\\\\scikit_learn_data\\\\20news_home\\\\20news-bydate-train\\\\sci.med\\\\58122',\n",
       "       'C:\\\\Users\\\\01009558\\\\scikit_learn_data\\\\20news_home\\\\20news-bydate-train\\\\sci.med\\\\58903',\n",
       "       ...,\n",
       "       'C:\\\\Users\\\\01009558\\\\scikit_learn_data\\\\20news_home\\\\20news-bydate-train\\\\sci.space\\\\60774',\n",
       "       'C:\\\\Users\\\\01009558\\\\scikit_learn_data\\\\20news_home\\\\20news-bydate-train\\\\sci.space\\\\60954',\n",
       "       'C:\\\\Users\\\\01009558\\\\scikit_learn_data\\\\20news_home\\\\20news-bydate-train\\\\sci.med\\\\58911'],\n",
       "      dtype='|S98')"
      ]
     },
     "execution_count": 6,
     "metadata": {},
     "output_type": "execute_result"
    }
   ],
   "source": [
    "twenty_sci_news.filenames"
   ]
  },
  {
   "cell_type": "code",
   "execution_count": 7,
   "metadata": {},
   "outputs": [
    {
     "name": "stdout",
     "output_type": "stream",
     "text": [
      "1\n"
     ]
    }
   ],
   "source": [
    "print twenty_sci_news.target[0]"
   ]
  },
  {
   "cell_type": "code",
   "execution_count": 8,
   "metadata": {},
   "outputs": [
    {
     "name": "stdout",
     "output_type": "stream",
     "text": [
      "sci.space\n"
     ]
    }
   ],
   "source": [
    "print twenty_sci_news.target_names[twenty_sci_news.target[0]]"
   ]
  },
  {
   "cell_type": "code",
   "execution_count": 9,
   "metadata": {},
   "outputs": [
    {
     "data": {
      "text/plain": [
       "(1187, 25638)"
      ]
     },
     "execution_count": 9,
     "metadata": {},
     "output_type": "execute_result"
    }
   ],
   "source": [
    "from sklearn.feature_extraction.text import CountVectorizer\n",
    "count_vect = CountVectorizer()\n",
    "# 为每篇文档创建特征矢量(fit_transform)，输出矩阵为稀疏矩阵\n",
    "word_count = count_vect.fit_transform(twenty_sci_news.data)\n",
    "word_count.shape"
   ]
  },
  {
   "cell_type": "code",
   "execution_count": 10,
   "metadata": {},
   "outputs": [
    {
     "name": "stdout",
     "output_type": "stream",
     "text": [
      "  (0, 10778)\t1\n",
      "  (0, 23849)\t1\n",
      "  (0, 9796)\t1\n",
      "  (0, 12716)\t1\n",
      "  (0, 18586)\t1\n",
      "  (0, 13384)\t1\n",
      "  (0, 5134)\t1\n",
      "  (0, 10785)\t1\n",
      "  (0, 15246)\t1\n",
      "  (0, 11330)\t1\n",
      "  (0, 5148)\t1\n",
      "  (0, 13318)\t1\n",
      "  (0, 18744)\t1\n",
      "  (0, 20110)\t1\n",
      "  (0, 18642)\t1\n",
      "  (0, 3808)\t2\n",
      "  (0, 10188)\t1\n",
      "  (0, 6017)\t3\n",
      "  (0, 24930)\t1\n",
      "  (0, 18474)\t1\n",
      "  (0, 23241)\t1\n",
      "  (0, 23129)\t1\n",
      "  (0, 3191)\t1\n",
      "  (0, 12362)\t1\n",
      "  (0, 15968)\t1\n",
      "  :\t:\n",
      "  (0, 7646)\t1\n",
      "  (0, 24547)\t1\n",
      "  (0, 24415)\t1\n",
      "  (0, 13359)\t1\n",
      "  (0, 20909)\t1\n",
      "  (0, 17235)\t1\n",
      "  (0, 24151)\t1\n",
      "  (0, 13158)\t1\n",
      "  (0, 24626)\t1\n",
      "  (0, 17217)\t1\n",
      "  (0, 8438)\t1\n",
      "  (0, 21686)\t2\n",
      "  (0, 5650)\t3\n",
      "  (0, 10713)\t1\n",
      "  (0, 3233)\t1\n",
      "  (0, 21382)\t1\n",
      "  (0, 23137)\t7\n",
      "  (0, 24461)\t1\n",
      "  (0, 22345)\t1\n",
      "  (0, 23381)\t2\n",
      "  (0, 4762)\t2\n",
      "  (0, 10341)\t1\n",
      "  (0, 17170)\t1\n",
      "  (0, 10501)\t2\n",
      "  (0, 10827)\t2\n"
     ]
    }
   ],
   "source": [
    "print word_count[0]"
   ]
  },
  {
   "cell_type": "code",
   "execution_count": 11,
   "metadata": {},
   "outputs": [
    {
     "name": "stdout",
     "output_type": "stream",
     "text": [
      "Word: fred appears 1 times\n",
      "Word: twilight appears 1 times\n",
      "Word: evening appears 1 times\n",
      "Word: in appears 1 times\n",
      "Word: presence appears 1 times\n",
      "Word: its appears 1 times\n",
      "Word: blare appears 1 times\n",
      "Word: freely appears 1 times\n",
      "Word: may appears 1 times\n",
      "Word: god appears 1 times\n",
      "Word: blessed appears 1 times\n",
      "Word: is appears 1 times\n",
      "Word: profiting appears 1 times\n",
      "Word: right appears 1 times\n",
      "Word: priesthood appears 1 times\n",
      "Word: and appears 2 times\n",
      "Word: farming appears 1 times\n",
      "Word: caste appears 3 times\n",
      "Word: warrior appears 1 times\n",
      "Word: practiced appears 1 times\n",
      "Word: those appears 1 times\n",
      "Word: than appears 1 times\n",
      "Word: activities appears 1 times\n",
      "Word: human appears 1 times\n",
      "Word: more appears 1 times\n",
      "Word: are appears 1 times\n",
      "Word: there appears 1 times\n",
      "Word: that appears 1 times\n",
      "Word: remember appears 1 times\n",
      "Word: to appears 1 times\n",
      "Word: try appears 1 times\n",
      "Word: please appears 1 times\n",
      "Word: age appears 1 times\n",
      "Word: bronze appears 1 times\n",
      "Word: isn appears 1 times\n",
      "Word: this appears 1 times\n",
      "Word: finally appears 1 times\n",
      "Word: usl appears 1 times\n",
      "Word: cacs appears 1 times\n",
      "Word: srl03 appears 1 times\n",
      "Word: pgf appears 1 times\n",
      "Word: fraering appears 1 times\n",
      "Word: phil appears 1 times\n",
      "Word: 12 appears 1 times\n",
      "Word: lines appears 1 times\n",
      "Word: sci appears 1 times\n",
      "Word: distribution appears 1 times\n",
      "Word: edu appears 2 times\n",
      "Word: cmu appears 1 times\n",
      "Word: cs appears 1 times\n",
      "Word: venari appears 1 times\n",
      "Word: vacation appears 1 times\n",
      "Word: isu appears 1 times\n",
      "Word: sender appears 1 times\n",
      "Word: original appears 1 times\n",
      "Word: university appears 1 times\n",
      "Word: international appears 1 times\n",
      "Word: via appears 1 times\n",
      "Word: organization appears 1 times\n",
      "Word: digest appears 1 times\n",
      "Word: space appears 2 times\n",
      "Word: by appears 3 times\n",
      "Word: forwarded appears 1 times\n",
      "Word: added appears 1 times\n",
      "Word: sky appears 1 times\n",
      "Word: the appears 7 times\n",
      "Word: vandalizing appears 1 times\n",
      "Word: subject appears 1 times\n",
      "Word: tm appears 2 times\n",
      "Word: baube appears 2 times\n",
      "Word: fi appears 1 times\n",
      "Word: optiplan appears 1 times\n",
      "Word: flb appears 2 times\n",
      "Word: from appears 2 times\n"
     ]
    }
   ],
   "source": [
    "word_list = count_vect.get_feature_names()\n",
    "for n in word_count[0].indices:\n",
    "    print \"Word:\", word_list[n], \"appears\", word_count[0, n], \"times\"\n"
   ]
  },
  {
   "cell_type": "code",
   "execution_count": 12,
   "metadata": {},
   "outputs": [
    {
     "name": "stdout",
     "output_type": "stream",
     "text": [
      "From: flb@flb.optiplan.fi (\"F.Baube[tm]\")\n",
      "Subject: Vandalizing the sky\n",
      "X-Added: Forwarded by Space Digest\n",
      "Organization: [via International Space University]\n",
      "Original-Sender: isu@VACATION.VENARI.CS.CMU.EDU\n",
      "Distribution: sci\n",
      "Lines: 12\n",
      "\n",
      "From: \"Phil G. Fraering\" <pgf@srl03.cacs.usl.edu>\n",
      "> \n",
      "> Finally: this isn't the Bronze Age, [..]\n",
      "> please try to remember that there are more human activities than\n",
      "> those practiced by the Warrior Caste, the Farming Caste, and the\n",
      "> Priesthood.\n",
      "\n",
      "Right, the Profiting Caste is blessed by God, and may \n",
      " freely blare its presence in the evening twilight ..\n",
      "\n",
      "-- \n",
      "* Fred Baube (tm)\n",
      "\n"
     ]
    }
   ],
   "source": [
    "print twenty_sci_news.data[0]"
   ]
  },
  {
   "cell_type": "code",
   "execution_count": 13,
   "metadata": {},
   "outputs": [
    {
     "name": "stdout",
     "output_type": "stream",
     "text": [
      "Word: fred has frequency 0.010989010989\n",
      "Word: twilight has frequency 0.010989010989\n",
      "Word: evening has frequency 0.010989010989\n",
      "Word: in has frequency 0.010989010989\n",
      "Word: presence has frequency 0.010989010989\n",
      "Word: its has frequency 0.010989010989\n",
      "Word: blare has frequency 0.010989010989\n",
      "Word: freely has frequency 0.010989010989\n",
      "Word: may has frequency 0.010989010989\n",
      "Word: god has frequency 0.010989010989\n",
      "Word: blessed has frequency 0.010989010989\n",
      "Word: is has frequency 0.010989010989\n",
      "Word: profiting has frequency 0.010989010989\n",
      "Word: right has frequency 0.010989010989\n",
      "Word: priesthood has frequency 0.010989010989\n",
      "Word: and has frequency 0.021978021978\n",
      "Word: farming has frequency 0.010989010989\n",
      "Word: caste has frequency 0.032967032967\n",
      "Word: warrior has frequency 0.010989010989\n",
      "Word: practiced has frequency 0.010989010989\n",
      "Word: those has frequency 0.010989010989\n",
      "Word: than has frequency 0.010989010989\n",
      "Word: activities has frequency 0.010989010989\n",
      "Word: human has frequency 0.010989010989\n",
      "Word: more has frequency 0.010989010989\n",
      "Word: are has frequency 0.010989010989\n",
      "Word: there has frequency 0.010989010989\n",
      "Word: that has frequency 0.010989010989\n",
      "Word: remember has frequency 0.010989010989\n",
      "Word: to has frequency 0.010989010989\n",
      "Word: try has frequency 0.010989010989\n",
      "Word: please has frequency 0.010989010989\n",
      "Word: age has frequency 0.010989010989\n",
      "Word: bronze has frequency 0.010989010989\n",
      "Word: isn has frequency 0.010989010989\n",
      "Word: this has frequency 0.010989010989\n",
      "Word: finally has frequency 0.010989010989\n",
      "Word: usl has frequency 0.010989010989\n",
      "Word: cacs has frequency 0.010989010989\n",
      "Word: srl03 has frequency 0.010989010989\n",
      "Word: pgf has frequency 0.010989010989\n",
      "Word: fraering has frequency 0.010989010989\n",
      "Word: phil has frequency 0.010989010989\n",
      "Word: 12 has frequency 0.010989010989\n",
      "Word: lines has frequency 0.010989010989\n",
      "Word: sci has frequency 0.010989010989\n",
      "Word: distribution has frequency 0.010989010989\n",
      "Word: edu has frequency 0.021978021978\n",
      "Word: cmu has frequency 0.010989010989\n",
      "Word: cs has frequency 0.010989010989\n",
      "Word: venari has frequency 0.010989010989\n",
      "Word: vacation has frequency 0.010989010989\n",
      "Word: isu has frequency 0.010989010989\n",
      "Word: sender has frequency 0.010989010989\n",
      "Word: original has frequency 0.010989010989\n",
      "Word: university has frequency 0.010989010989\n",
      "Word: international has frequency 0.010989010989\n",
      "Word: via has frequency 0.010989010989\n",
      "Word: organization has frequency 0.010989010989\n",
      "Word: digest has frequency 0.010989010989\n",
      "Word: space has frequency 0.021978021978\n",
      "Word: by has frequency 0.032967032967\n",
      "Word: forwarded has frequency 0.010989010989\n",
      "Word: added has frequency 0.010989010989\n",
      "Word: sky has frequency 0.010989010989\n",
      "Word: the has frequency 0.0769230769231\n",
      "Word: vandalizing has frequency 0.010989010989\n",
      "Word: subject has frequency 0.010989010989\n",
      "Word: tm has frequency 0.021978021978\n",
      "Word: baube has frequency 0.021978021978\n",
      "Word: fi has frequency 0.010989010989\n",
      "Word: optiplan has frequency 0.010989010989\n",
      "Word: flb has frequency 0.021978021978\n",
      "Word: from has frequency 0.021978021978\n"
     ]
    }
   ],
   "source": [
    "from sklearn.feature_extraction.text import TfidfVectorizer\n",
    "tf_vect = TfidfVectorizer(use_idf=False, norm='l1')\n",
    "word_freq = tf_vect.fit_transform(twenty_sci_news.data)\n",
    "word_list = tf_vect.get_feature_names()\n",
    "\n",
    "for n in word_freq[0].indices:\n",
    "    print \"Word:\", word_list[n], \"has frequency\", word_freq[0, n]"
   ]
  },
  {
   "cell_type": "markdown",
   "metadata": {},
   "source": [
    "**TF-IDF**是一种统计方法，用以评估一字词对于一个文件集或一个语料库中的其中一份文件的重要程度。**字词的重要性随着它在文件中出现的次数成正比增加，但同时会随着它在语料库中出现的频率成反比下降**。"
   ]
  },
  {
   "cell_type": "code",
   "execution_count": 14,
   "metadata": {
    "scrolled": true
   },
   "outputs": [
    {
     "name": "stdout",
     "output_type": "stream",
     "text": [
      "Word: fred has tfidf 0.0893604523484\n",
      "Word: twilight has tfidf 0.139389277822\n",
      "Word: evening has tfidf 0.113026734241\n",
      "Word: in has tfidf 0.0239166759663\n",
      "Word: presence has tfidf 0.118805671173\n",
      "Word: its has tfidf 0.0614868335851\n",
      "Word: blare has tfidf 0.150393472236\n",
      "Word: freely has tfidf 0.118805671173\n",
      "Word: may has tfidf 0.0543546855668\n",
      "Word: god has tfidf 0.118805671173\n",
      "Word: blessed has tfidf 0.150393472236\n",
      "Word: is has tfidf 0.0255349229448\n",
      "Word: profiting has tfidf 0.150393472236\n",
      "Word: right has tfidf 0.0677614245918\n",
      "Word: priesthood has tfidf 0.144196231323\n",
      "Word: and has tfidf 0.0491489948076\n",
      "Word: farming has tfidf 0.144196231323\n",
      "Word: caste has tfidf 0.43258869397\n",
      "Word: warrior has tfidf 0.144196231323\n",
      "Word: practiced has tfidf 0.13214100026\n",
      "Word: those has tfidf 0.0604689129732\n",
      "Word: than has tfidf 0.0519193033019\n",
      "Word: activities has tfidf 0.0906664266256\n",
      "Word: human has tfidf 0.0844691857132\n",
      "Word: more has tfidf 0.0464972413341\n",
      "Word: are has tfidf 0.0346326118207\n",
      "Word: there has tfidf 0.0385269093384\n",
      "Word: that has tfidf 0.0267700801862\n",
      "Word: remember has tfidf 0.0768869173043\n",
      "Word: to has tfidf 0.0231216788081\n",
      "Word: try has tfidf 0.0729988406625\n",
      "Word: please has tfidf 0.0712897702965\n",
      "Word: age has tfidf 0.0915832449085\n",
      "Word: bronze has tfidf 0.144196231323\n",
      "Word: isn has tfidf 0.0729988406625\n",
      "Word: this has tfidf 0.031080086794\n",
      "Word: finally has tfidf 0.0974705239534\n",
      "Word: usl has tfidf 0.11179542894\n",
      "Word: cacs has tfidf 0.114332708518\n",
      "Word: srl03 has tfidf 0.120529949431\n",
      "Word: pgf has tfidf 0.114332708518\n",
      "Word: fraering has tfidf 0.113026734241\n",
      "Word: phil has tfidf 0.102277477455\n",
      "Word: 12 has tfidf 0.0761881973035\n",
      "Word: lines has tfidf 0.0217240753918\n",
      "Word: sci has tfidf 0.0667030092891\n",
      "Word: distribution has tfidf 0.0529072920233\n",
      "Word: edu has tfidf 0.0594785286752\n",
      "Word: cmu has tfidf 0.0813416780327\n",
      "Word: cs has tfidf 0.0546056629081\n",
      "Word: venari has tfidf 0.10306090845\n",
      "Word: vacation has tfidf 0.0994009471158\n",
      "Word: isu has tfidf 0.0994009471158\n",
      "Word: sender has tfidf 0.0930360635043\n",
      "Word: original has tfidf 0.0851531154779\n",
      "Word: university has tfidf 0.0447241502507\n",
      "Word: international has tfidf 0.0813416780327\n",
      "Word: via has tfidf 0.0831632114361\n",
      "Word: organization has tfidf 0.0222048605251\n",
      "Word: digest has tfidf 0.0945939936141\n",
      "Word: space has tfidf 0.0981412939895\n",
      "Word: by has tfidf 0.119911357781\n",
      "Word: forwarded has tfidf 0.0962734394352\n",
      "Word: added has tfidf 0.0881291470477\n",
      "Word: sky has tfidf 0.091119958706\n",
      "Word: the has tfidf 0.157543062907\n",
      "Word: vandalizing has tfidf 0.10306090845\n",
      "Word: subject has tfidf 0.0215419781272\n",
      "Word: tm has tfidf 0.219051510033\n",
      "Word: baube has tfidf 0.26428200052\n",
      "Word: fi has tfidf 0.109525755017\n",
      "Word: optiplan has tfidf 0.13214100026\n",
      "Word: flb has tfidf 0.26428200052\n",
      "Word: from has tfidf 0.0430839562544\n"
     ]
    }
   ],
   "source": [
    "from sklearn.feature_extraction.text import TfidfVectorizer\n",
    "tf_vect = TfidfVectorizer() # Default: use_idf=True\n",
    "word_tfidf = tf_vect.fit_transform(twenty_sci_news.data)\n",
    "word_list = tf_vect.get_feature_names()\n",
    "\n",
    "for n in word_freq[0].indices:\n",
    "    print \"Word:\", word_list[n], \"has tfidf\", word_tfidf[0, n]"
   ]
  },
  {
   "cell_type": "markdown",
   "metadata": {},
   "source": [
    "#### 多元语法组合示例"
   ]
  },
  {
   "cell_type": "code",
   "execution_count": 15,
   "metadata": {},
   "outputs": [
    {
     "data": {
      "text/plain": [
       "['we love data science', 'data science is hard']"
      ]
     },
     "execution_count": 15,
     "metadata": {},
     "output_type": "execute_result"
    }
   ],
   "source": [
    "text_1 = \"we love data science\"\n",
    "text_2 = \"data science is hard\"\n",
    "\n",
    "documents = [text_1, text_2]\n",
    "documents"
   ]
  },
  {
   "cell_type": "code",
   "execution_count": 16,
   "metadata": {},
   "outputs": [
    {
     "name": "stdout",
     "output_type": "stream",
     "text": [
      "Word list =  [u'data', u'hard', u'is', u'love', u'science', u'we']\n",
      "text_1 is described with [u'science(1)', u'data(1)', u'love(1)', u'we(1)']\n"
     ]
    }
   ],
   "source": [
    "# 一元语法\n",
    "count_vect_1_grams = CountVectorizer(ngram_range=(1,1), stop_words=[], min_df=1)\n",
    "word_count = count_vect_1_grams.fit_transform(documents)\n",
    "word_list = count_vect_1_grams.get_feature_names()\n",
    "print \"Word list = \", word_list\n",
    "print \"text_1 is described with\", [word_list[n] + \"(\" + str(word_count[0, n]) + \")\" for n in word_count[0].indices]"
   ]
  },
  {
   "cell_type": "code",
   "execution_count": 17,
   "metadata": {},
   "outputs": [
    {
     "name": "stdout",
     "output_type": "stream",
     "text": [
      "Word list =  [u'data science', u'is hard', u'love data', u'science is', u'we love']\n",
      "text_1 is described with [u'data science(1)', u'love data(1)', u'we love(1)']\n"
     ]
    }
   ],
   "source": [
    "# 二元语法\n",
    "count_vect_1_grams = CountVectorizer(ngram_range=(2, 2))\n",
    "word_count = count_vect_1_grams.fit_transform(documents)\n",
    "word_list = count_vect_1_grams.get_feature_names()\n",
    "print \"Word list = \", word_list\n",
    "print \"text_1 is described with\", [word_list[n] + \"(\" + str(word_count[0, n]) + \")\" for n in word_count[0].indices]"
   ]
  },
  {
   "cell_type": "code",
   "execution_count": 18,
   "metadata": {},
   "outputs": [
    {
     "name": "stdout",
     "output_type": "stream",
     "text": [
      "Word list =  [u'data', u'data science', u'hard', u'is', u'is hard', u'love', u'love data', u'science', u'science is', u'we', u'we love']\n",
      "text_1 is described with [u'data science(1)', u'love data(1)', u'we love(1)', u'science(1)', u'data(1)', u'love(1)', u'we(1)']\n"
     ]
    }
   ],
   "source": [
    "# 混合使用一元语法与二元语法\n",
    "count_vect_1_grams = CountVectorizer(ngram_range=(1, 2))\n",
    "word_count = count_vect_1_grams.fit_transform(documents)\n",
    "word_list = count_vect_1_grams.get_feature_names()\n",
    "print \"Word list = \", word_list\n",
    "print \"text_1 is described with\", [word_list[n] + \"(\" + str(word_count[0, n]) + \")\" for n in word_count[0].indices]"
   ]
  },
  {
   "cell_type": "markdown",
   "metadata": {},
   "source": [
    "#### 使用散列方法，解决性能和复杂性问题"
   ]
  },
  {
   "cell_type": "code",
   "execution_count": 19,
   "metadata": {},
   "outputs": [
    {
     "data": {
      "text/plain": [
       "(1187, 1000)"
      ]
     },
     "execution_count": 19,
     "metadata": {},
     "output_type": "execute_result"
    }
   ],
   "source": [
    "from sklearn.feature_extraction.text import HashingVectorizer\n",
    "hash_vect = HashingVectorizer(n_features=1000)\n",
    "word_hashed = hash_vect.fit_transform(twenty_sci_news.data)\n",
    "word_hashed.shape"
   ]
  }
 ],
 "metadata": {
  "kernelspec": {
   "display_name": "Python 2",
   "language": "python",
   "name": "python2"
  },
  "language_info": {
   "codemirror_mode": {
    "name": "ipython",
    "version": 2
   },
   "file_extension": ".py",
   "mimetype": "text/x-python",
   "name": "python",
   "nbconvert_exporter": "python",
   "pygments_lexer": "ipython2",
   "version": "2.7.14"
  }
 },
 "nbformat": 4,
 "nbformat_minor": 2
}
